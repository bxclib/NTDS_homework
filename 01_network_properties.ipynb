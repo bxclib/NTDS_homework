{
 "cells": [
  {
   "cell_type": "markdown",
   "metadata": {},
   "source": [
    "# Collect and Analyze a Twitter Network\n",
    "[Effrosyni Simou](http://lts4.epfl.ch/simou), *PhD Student*, [EPFL](http://epfl.ch) [LTS4](http://lts4.epfl.ch)"
   ]
  },
  {
   "cell_type": "markdown",
   "metadata": {},
   "source": [
    "# Objective of Exercise\n",
    "The aim of this exercise is to learn how to create your own, real network using data collected from the Internet and then to discover some properties of the collected network. "
   ]
  },
  {
   "cell_type": "markdown",
   "metadata": {},
   "source": [
    "# Resources\n",
    "You might want to have a look at the following resources before starting:\n",
    "\n",
    "* [Twitter REST API](https://dev.twitter.com/rest/public)\n",
    "* [Tweepy Documentation](http://tweepy.readthedocs.io/en/v3.5.0/)\n",
    "* [Tutorial \"Mining Twitter data with Python\"](https://marcobonzanini.com/2015/03/02/mining-twitter-data-with-python-part-1/)"
   ]
  },
  {
   "cell_type": "markdown",
   "metadata": {},
   "source": [
    "# 1. Collect a Twitter Network"
   ]
  },
  {
   "cell_type": "markdown",
   "metadata": {},
   "source": [
    "In order to collect data from Twitter you will need to generate access tokens.  To do this you will need to register a [client application with Twitter](https://apps.twitter.com/). Once you are done you should have your tokens. You can now create a `credentials.ini` file as follows:\n",
    "```\n",
    "[twitter]\n",
    "consumer_key = YOUR-CONSUMER-KEY\n",
    "consumer_secret = YOUR-CONSUMER-SECRET\n",
    "access_token = YOUR-ACCESS-TOKEN\n",
    "access_secret = YOUR-ACCESS-SECRET\n",
    "```\n",
    "In this way you will have this information readily available to you. "
   ]
  },
  {
   "cell_type": "code",
   "execution_count": 1,
   "metadata": {
    "collapsed": true
   },
   "outputs": [],
   "source": [
    "%matplotlib inline\n",
    "\n",
    "import random\n",
    "import configparser\n",
    "import matplotlib.pyplot as plt\n",
    "import numpy as np\n",
    "from pprint import pprint\n",
    "import tweepy  # you will need to install tweepy first"
   ]
  },
  {
   "cell_type": "code",
   "execution_count": 2,
   "metadata": {
    "collapsed": true
   },
   "outputs": [],
   "source": [
    "# Read the confidential token.\n",
    "credentials = configparser.ConfigParser()\n",
    "credentials.read('credentials.ini')\n",
    "\n",
    "#authentication\n",
    "auth = tweepy.OAuthHandler(credentials.get('twitter', 'consumer_key'), credentials.get('twitter', 'consumer_secret'))\n",
    "auth.set_access_token(credentials.get('twitter', 'access_token'), credentials.get('twitter', 'access_secret'))\n",
    "\n",
    "#construct API instance\n",
    "#deal with rate limits and notify when delayed because of rate limits\n",
    "api = tweepy.API(auth,wait_on_rate_limit=True, wait_on_rate_limit_notify=True)"
   ]
  },
  {
   "cell_type": "markdown",
   "metadata": {},
   "source": [
    "Now you are all set up to start collecting data from Twitter! "
   ]
  },
  {
   "cell_type": "markdown",
   "metadata": {},
   "source": [
    "In this exercise we will construct a network with the following logic:\n",
    "\n",
    "1) We will chose a `user_id` in Twitter to be our first node. \n",
    "\n",
    "2) We will find (some) of the users who are both following `user_id` and are being followed by `user_id`. From now on we will call such users \"connections\" of `user_id`. We will place these user ids in a list called `first_nodes`. \n",
    "\n",
    "3) For every node in the list `first_nodes` we will then find (some) of the users who are following and are being followed by this node (aka the connections of this node). The user ids collected in this step will be placed in a list called `second_nodes`.\n",
    "\n",
    "4) The collection of the ids of all nodes (aka Twitter users) that we have collected so far will be placed in a list called `all_nodes`.\n",
    "\n",
    "5) Since we have only collected a subset of all possible \"connections\" for our nodes we have to check if there are any remaining inner connections that we have missed.\n",
    "\n",
    "The entire network is to be organized in a dictionary with entries that will have as key the Twitter id of the user (this is a number characterizing each user in Twitter) and as value the list of ids of his connections.\n",
    "\n",
    "So, let us begin. The first thing that you will have to do is to chose the node from which everything will start. I have chosen the Twitter account of [Applied Machine Learning Days](https://www.appliedmldays.org) that will take place in January 2018 in EPFL. You may change that if you wish to, but please make sure that the user you chose has both followers and friends and that he allows you to access this data."
   ]
  },
  {
   "cell_type": "code",
   "execution_count": 3,
   "metadata": {},
   "outputs": [],
   "source": [
    "user = 'appliedmldays '\n",
    "user_id=api.get_user(user).id"
   ]
  },
  {
   "cell_type": "markdown",
   "metadata": {},
   "source": [
    "In the following cell write a function that takes as an argument the Twitter id of a user and returns a list with the **ids** of his connections. Take into account the case where a user does not allow you to access this information.\n",
    "\n",
    "**Reminder:** By connections we mean users that are both followers and friends of a given user."
   ]
  },
  {
   "cell_type": "code",
   "execution_count": 4,
   "metadata": {},
   "outputs": [],
   "source": [
    "def find_connections(user_id):\n",
    "    followers = []\n",
    "    friends=[]\n",
    "    try:\n",
    "        for friend in tweepy.Cursor(api.friends_ids,id=user_id).items():\n",
    "            friends.append(friend)\n",
    "        for follower in tweepy.Cursor(api.followers_ids, id = user_id).items():\n",
    "            followers.append(follower)\n",
    "        #friends = api.friends_ids(user_id)\n",
    "    except Exception: \n",
    "        print (Exception)\n",
    "        return \"private\"\n",
    "    #print (friends)\n",
    "    connections = list(set(friends).intersection(set(followers)))\n",
    "  \n",
    "    return connections"
   ]
  },
  {
   "cell_type": "code",
   "execution_count": 5,
   "metadata": {},
   "outputs": [
    {
     "name": "stdout",
     "output_type": "stream",
     "text": [
      "appliedmldays has 139 connections\n"
     ]
    }
   ],
   "source": [
    "first_connections=find_connections(user_id)\n",
    "print('{}has {} connections'.format(user, len(first_connections)))"
   ]
  },
  {
   "cell_type": "markdown",
   "metadata": {},
   "source": [
    "Collect your `first_nodes` and `second_nodes` and organize your collected nodes and their connections in the dictionary called `network`."
   ]
  },
  {
   "cell_type": "markdown",
   "metadata": {},
   "source": [
    "Hints:\n",
    "* Use `random.choice([1,3,4])` to randomly choose a number in `[1, 3, 4]`.\n",
    "* Use the `append` and `remove` methods to add and remove an element from a Python list.\n",
    "* The `pop` method removes the last item in the list."
   ]
  },
  {
   "cell_type": "code",
   "execution_count": 6,
   "metadata": {},
   "outputs": [
    {
     "name": "stdout",
     "output_type": "stream",
     "text": [
      "Rate limit reached. Sleeping for: 743\n",
      "Rate limit reached. Sleeping for: 894\n",
      "Rate limit reached. Sleeping for: 897\n",
      "Rate limit reached. Sleeping for: 894\n",
      "Rate limit reached. Sleeping for: 891\n",
      "Rate limit reached. Sleeping for: 894\n",
      "<class 'Exception'>\n",
      "Rate limit reached. Sleeping for: 889\n",
      "Rate limit reached. Sleeping for: 893\n",
      "Rate limit reached. Sleeping for: 891\n",
      "Rate limit reached. Sleeping for: 892\n",
      "Rate limit reached. Sleeping for: 890\n",
      "Rate limit reached. Sleeping for: 892\n",
      "Rate limit reached. Sleeping for: 892\n",
      "Rate limit reached. Sleeping for: 892\n",
      "Rate limit reached. Sleeping for: 895\n",
      "Rate limit reached. Sleeping for: 896\n",
      "Rate limit reached. Sleeping for: 893\n",
      "Rate limit reached. Sleeping for: 895\n",
      "Rate limit reached. Sleeping for: 896\n",
      "<class 'Exception'>\n",
      "Rate limit reached. Sleeping for: 891\n",
      "Rate limit reached. Sleeping for: 886\n",
      "Rate limit reached. Sleeping for: 896\n",
      "Rate limit reached. Sleeping for: 896\n",
      "Rate limit reached. Sleeping for: 895\n",
      "Rate limit reached. Sleeping for: 896\n",
      "Rate limit reached. Sleeping for: 896\n",
      "Rate limit reached. Sleeping for: 894\n",
      "Rate limit reached. Sleeping for: 895\n",
      "Rate limit reached. Sleeping for: 891\n",
      "Rate limit reached. Sleeping for: 890\n",
      "Rate limit reached. Sleeping for: 895\n",
      "Rate limit reached. Sleeping for: 896\n",
      "Rate limit reached. Sleeping for: 892\n",
      "<class 'Exception'>\n"
     ]
    }
   ],
   "source": [
    "network={}\n",
    "first_nodes=[]\n",
    "second_nodes=[]\n",
    "how_many=10#This is the number of connections you are sampling. \n",
    "          #Keep small (e.g.3) for development, larger later (e.g. 10)\n",
    "import random\n",
    "network_pre={}\n",
    "'''for i in range(how_many):\n",
    "    if first_connections==[]:\n",
    "        break\n",
    "    first_nodes.append(random.choice(first_connections))\n",
    "    first_connections.remove(first_nodes[len(first_nodes)-1])\n",
    "\n",
    "second_connections = []\n",
    "for i in first_nodes:\n",
    "    second_connections = second_connections + find_connections(i)\n",
    "    second_connections = list(set(second_connections))\n",
    "for i in range(how_many):\n",
    "    if second_connections==[]:\n",
    "        break\n",
    "    second_nodes.append(random.choice(second_connections))\n",
    "    second_connections.remove(second_nodes[len(second_nodes)-1])'''\n",
    "network_pre[user_id] = first_connections.copy()\n",
    "for i in range(how_many):\n",
    "    if first_connections==[]:\n",
    "        break\n",
    "    co=random.choice(first_connections)\n",
    "    re=find_connections(co)\n",
    "    if re==\"private\" or (co in first_nodes) or (co == user_id):\n",
    "        first_connections.remove(co)\n",
    "        i = i-1\n",
    "    else:\n",
    "        first_nodes.append(co)\n",
    "        first_connections.remove(co)\n",
    "        network_pre[co]=re.copy()\n",
    "        for k in range(how_many):\n",
    "            if re==[]:\n",
    "                break\n",
    "            co2=random.choice(re)\n",
    "            re2=find_connections(co2)\n",
    "            if re2==\"private\" or (co2 in first_nodes) or (co2 in second_nodes) or (co2 == user_id):\n",
    "                re.remove(co2)\n",
    "                k = k-1\n",
    "            else:\n",
    "                second_nodes.append(co2)\n",
    "                re.remove(co2)\n",
    "                network_pre[co2]=re2\n"
   ]
  },
  {
   "cell_type": "markdown",
   "metadata": {},
   "source": [
    "**Be careful!** You should only keep a small value for the `how_many` parameter while you are developing your code. In order to answer to the questions you should raise the value of this parameter to `how_many=10` at least. This will take a while to execute because of the API rate limit (plan your time accordingly). You should also remember to submit your jupyter notebook with the **output shown for a large value of the `how_many` parameter**. "
   ]
  },
  {
   "cell_type": "code",
   "execution_count": 7,
   "metadata": {
    "collapsed": true
   },
   "outputs": [],
   "source": [
    "network[user_id] = first_nodes"
   ]
  },
  {
   "cell_type": "code",
   "execution_count": 8,
   "metadata": {
    "scrolled": true
   },
   "outputs": [
    {
     "name": "stdout",
     "output_type": "stream",
     "text": [
      "{763052115392593920: [272511442,\n",
      "                      142995842,\n",
      "                      123969580,\n",
      "                      801444727946149888,\n",
      "                      850645992,\n",
      "                      54164492,\n",
      "                      152593106,\n",
      "                      204965245,\n",
      "                      3373861815,\n",
      "                      19480672]}\n"
     ]
    }
   ],
   "source": [
    "pprint(network)"
   ]
  },
  {
   "cell_type": "code",
   "execution_count": 9,
   "metadata": {
    "collapsed": true
   },
   "outputs": [],
   "source": [
    "all_nodes= [user_id] + first_nodes + second_nodes"
   ]
  },
  {
   "cell_type": "code",
   "execution_count": 10,
   "metadata": {
    "scrolled": false
   },
   "outputs": [
    {
     "name": "stdout",
     "output_type": "stream",
     "text": [
      "There are 10 first hop nodes\n",
      "There are 95 second hop nodes\n",
      "There are overall 106 nodes in the collected network\n"
     ]
    }
   ],
   "source": [
    "print('There are {} first hop nodes'.format(len(first_nodes)))\n",
    "print('There are {} second hop nodes'.format(len(second_nodes)))\n",
    "print('There are overall {} nodes in the collected network'.format(len(all_nodes)))"
   ]
  },
  {
   "cell_type": "code",
   "execution_count": 11,
   "metadata": {},
   "outputs": [],
   "source": [
    "for i in second_nodes:\n",
    "    network[i]=[]"
   ]
  },
  {
   "cell_type": "markdown",
   "metadata": {},
   "source": [
    "Find the inner connections between your collected nodes that you might have missed because you sampled the connections."
   ]
  },
  {
   "cell_type": "code",
   "execution_count": 12,
   "metadata": {
    "scrolled": true
   },
   "outputs": [],
   "source": [
    "for i in range(0,len(all_nodes)):\n",
    "    network[all_nodes[i]] = list(set(network_pre[all_nodes[i]]).intersection(set(all_nodes)))"
   ]
  },
  {
   "cell_type": "markdown",
   "metadata": {},
   "source": [
    "# 2. Discover some of the properties of the collected network"
   ]
  },
  {
   "cell_type": "markdown",
   "metadata": {},
   "source": [
    "## 2.1 Adjacency matrix"
   ]
  },
  {
   "cell_type": "markdown",
   "metadata": {},
   "source": [
    "Congradulations! You have now created a dictionary that describes a real Twitter network!\n",
    "We now want to transform this dictionary into the adjacency (or weight) matrix that you learned about in your first class. "
   ]
  },
  {
   "cell_type": "code",
   "execution_count": 13,
   "metadata": {},
   "outputs": [],
   "source": [
    "W=np.zeros([len(all_nodes),len(all_nodes)], dtype=int)\n",
    "#print (network)"
   ]
  },
  {
   "cell_type": "code",
   "execution_count": 14,
   "metadata": {},
   "outputs": [],
   "source": [
    "for i,node in enumerate(all_nodes):\n",
    "    for j in range(len(all_nodes)):\n",
    "        W[i][j] = 1 if all_nodes[j] in network[node] else 0\n",
    "#print (W)"
   ]
  },
  {
   "cell_type": "markdown",
   "metadata": {},
   "source": [
    "Remember that a weight matrix should be symmetric. Check if it is:"
   ]
  },
  {
   "cell_type": "code",
   "execution_count": 15,
   "metadata": {},
   "outputs": [
    {
     "data": {
      "text/plain": [
       "(array([], dtype=int64), array([], dtype=int64))"
      ]
     },
     "execution_count": 15,
     "metadata": {},
     "output_type": "execute_result"
    }
   ],
   "source": [
    "np.nonzero(W-W.transpose())"
   ]
  },
  {
   "cell_type": "markdown",
   "metadata": {},
   "source": [
    "**Question 1:**\n",
    "It might happen that $W \\neq W^{T} $ for some $(i,j)$. Explain why this might be the case."
   ]
  },
  {
   "cell_type": "markdown",
   "metadata": {},
   "source": [
    "**Your answer here:** Some people don't let you get their information.And their friends allows you to get.So there is insymmetric.But here I skiped the private node. Also, some people used the api without cursor, which have a maximum of the friends and followers restriction.So some connection are not fully retrived , which leads to the insymmetric. But I used cursor, so now ,there is no insymmetric"
   ]
  },
  {
   "cell_type": "markdown",
   "metadata": {},
   "source": [
    "Impose your weight matrix to be symmetric."
   ]
  },
  {
   "cell_type": "code",
   "execution_count": 16,
   "metadata": {
    "collapsed": true
   },
   "outputs": [],
   "source": [
    "# Make W is symmetric\n",
    "bigger = W.transpose() > W"
   ]
  },
  {
   "cell_type": "code",
   "execution_count": 17,
   "metadata": {
    "collapsed": true
   },
   "outputs": [],
   "source": [
    "W = W - W*bigger + W.transpose()*bigger"
   ]
  },
  {
   "cell_type": "markdown",
   "metadata": {},
   "source": [
    "Plot the weight matrix of your collected network.\n",
    "\n",
    "Hint: use `plt.spy()` to visualize a matrix."
   ]
  },
  {
   "cell_type": "code",
   "execution_count": 18,
   "metadata": {},
   "outputs": [
    {
     "data": {
      "text/plain": [
       "<matplotlib.text.Text at 0x7eadc50>"
      ]
     },
     "execution_count": 18,
     "metadata": {},
     "output_type": "execute_result"
    },
    {
     "data": {
      "image/png": "[encoded data removed]",
      "text/plain": [
       "<matplotlib.figure.Figure at 0x7e09a90>"
      ]
     },
     "metadata": {},
     "output_type": "display_data"
    }
   ],
   "source": [
    "plt.spy(W,markersize=1)\n",
    "\n",
    "plt.title('Adjacency Matrix W')"
   ]
  },
  {
   "cell_type": "markdown",
   "metadata": {},
   "source": [
    "**Question 2:**\n",
    "What is the maximum number of links $L_{max}$ in a network with $N$ nodes (where $N$ is the number of nodes in your collected network)? How many links $L$ are there in your collected network? Comment on how $L$ and $L_{max}$ compare."
   ]
  },
  {
   "cell_type": "markdown",
   "metadata": {},
   "source": [
    "**Your answer here:** The maximum is $\\frac{N(N-1)}{2}$ =5565 links , but we only have 156 links. The network is sparse, and most of the nodes are not connected "
   ]
  },
  {
   "cell_type": "markdown",
   "metadata": {},
   "source": [
    "## 2.2 Degrees distribution"
   ]
  },
  {
   "cell_type": "markdown",
   "metadata": {},
   "source": [
    "Plot a histogram of the degree distribution. "
   ]
  },
  {
   "cell_type": "code",
   "execution_count": 19,
   "metadata": {
    "collapsed": true
   },
   "outputs": [],
   "source": [
    "p = np.sum(W,0)"
   ]
  },
  {
   "cell_type": "code",
   "execution_count": 20,
   "metadata": {},
   "outputs": [
    {
     "data": {
      "image/png": "[encoded data removed]",
      "text/plain": [
       "<matplotlib.figure.Figure at 0x973a8d0>"
      ]
     },
     "metadata": {},
     "output_type": "display_data"
    }
   ],
   "source": [
    "plt.hist(p);"
   ]
  },
  {
   "cell_type": "markdown",
   "metadata": {},
   "source": [
    "**Question 3:** Comment on the plot. What do you observe? Would you expect a similar degree disribution in the complete Twitter network?"
   ]
  },
  {
   "cell_type": "markdown",
   "metadata": {},
   "source": [
    "**Your answer here:** This is simlar to the distribution of a scale free network. The Internet is a scale free network, so I think the complete Twitter Network is similar to this."
   ]
  },
  {
   "cell_type": "markdown",
   "metadata": {},
   "source": [
    "## 2.3 Average degree"
   ]
  },
  {
   "cell_type": "markdown",
   "metadata": {},
   "source": [
    "Calculate the average degree of your collected network."
   ]
  },
  {
   "cell_type": "code",
   "execution_count": 21,
   "metadata": {},
   "outputs": [
    {
     "name": "stdout",
     "output_type": "stream",
     "text": [
      "2.94339622642\n"
     ]
    }
   ],
   "source": [
    "d_avg = 1.0*sum(sum(W))/len(all_nodes)\n",
    "print (d_avg)"
   ]
  },
  {
   "cell_type": "markdown",
   "metadata": {},
   "source": [
    "## 2.4 Diameter of the collected network"
   ]
  },
  {
   "cell_type": "markdown",
   "metadata": {},
   "source": [
    "**Question 4:** What is the diameter of the collected network? Please justify."
   ]
  },
  {
   "cell_type": "markdown",
   "metadata": {},
   "source": [
    "**Your answer here:** 4. The longest is between the two second nodes which have no other connection, so you need to go from one second node to the first node to user and go to another first node and to the another second node which cost you four step."
   ]
  },
  {
   "cell_type": "markdown",
   "metadata": {},
   "source": [
    "## 2.5 Pruning the collected network"
   ]
  },
  {
   "cell_type": "markdown",
   "metadata": {},
   "source": [
    "You might notice that some nodes have very few connections and hence our matrix is very sparse. Prune the collected network so that you keep only the nodes that have a degree that is greater than the average degree and plot the new adjacency matrix."
   ]
  },
  {
   "cell_type": "code",
   "execution_count": 22,
   "metadata": {},
   "outputs": [],
   "source": [
    "deg = sum(W)\n",
    "bool_array=deg>d_avg\n",
    "Wpruned = W[bool_array]\n",
    "delete_num = np.where(bool_array==False)\n",
    "Wpruned = np.delete(Wpruned,delete_num,axis=1)"
   ]
  },
  {
   "cell_type": "code",
   "execution_count": 23,
   "metadata": {},
   "outputs": [
    {
     "data": {
      "image/png": "[encoded data removed]",
      "text/plain": [
       "<matplotlib.figure.Figure at 0x9c8a160>"
      ]
     },
     "metadata": {},
     "output_type": "display_data"
    }
   ],
   "source": [
    "plt.spy(Wpruned, markersize=1)\n",
    "plt.title('Adjacency Matrix W');"
   ]
  }
 ],
 "metadata": {
  "anaconda-cloud": {},
  "kernelspec": {
   "display_name": "Python 2",
   "language": "python",
   "name": "python2"
  },
  "language_info": {
   "codemirror_mode": {
    "name": "ipython",
    "version": 2
   },
   "file_extension": ".py",
   "mimetype": "text/x-python",
   "name": "python",
   "nbconvert_exporter": "python",
   "pygments_lexer": "ipython2",
   "version": "2.7.13"
  }
 },
 "nbformat": 4,
 "nbformat_minor": 1
}
